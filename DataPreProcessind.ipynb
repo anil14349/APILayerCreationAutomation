{
  "nbformat": 4,
  "nbformat_minor": 0,
  "metadata": {
    "colab": {
      "name": "Untitled0.ipynb",
      "provenance": [],
      "authorship_tag": "ABX9TyO6EtXSVaOUAilchgB8+spv",
      "include_colab_link": true
    },
    "kernelspec": {
      "name": "python3",
      "display_name": "Python 3"
    }
  },
  "cells": [
    {
      "cell_type": "markdown",
      "metadata": {
        "id": "view-in-github",
        "colab_type": "text"
      },
      "source": [
        "<a href=\"https://colab.research.google.com/github/anil14349/APILayerCreationAutomation/blob/master/DataPreProcessind.ipynb\" target=\"_parent\"><img src=\"https://colab.research.google.com/assets/colab-badge.svg\" alt=\"Open In Colab\"/></a>"
      ]
    },
    {
      "cell_type": "markdown",
      "metadata": {
        "id": "czQzcG2zqf56",
        "colab_type": "text"
      },
      "source": [
        "# Data Preprocecssing\n"
      ]
    },
    {
      "cell_type": "markdown",
      "metadata": {
        "id": "MxdnBYi_qu29",
        "colab_type": "text"
      },
      "source": [
        "# Import Libraries"
      ]
    },
    {
      "cell_type": "code",
      "metadata": {
        "id": "lMuipwqsqLsz",
        "colab_type": "code",
        "colab": {}
      },
      "source": [
        "import pandas as pd\n",
        "import numpy as np\n",
        "import matplotlib.pyplot as plt\n",
        "ds = pd.read_csv('Data.csv')"
      ],
      "execution_count": 0,
      "outputs": []
    }
  ]
}